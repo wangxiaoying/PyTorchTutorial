{
 "cells": [
  {
   "cell_type": "markdown",
   "metadata": {},
   "source": [
    "![](./images/pytorch-logo.png)\n",
    "\n",
    "# PyTorch Tutorial\n",
    "\n",
    "## Outline:\n",
    "\n",
    "1. Overview of Deep Learning Frameworks\n",
    "2. PyTorch Under the Hood\n",
    "3. Exploring PyTorch API by Building an Image Classifer"
   ]
  },
  {
   "cell_type": "markdown",
   "metadata": {},
   "source": [
    "# 1 - Overview of Deep Learning Frameworks\n",
    "\n",
    "<img src=\"./images/frameworks.png?arg\" alt=\"Drawing\" style=\"width: 640px;\"/>\n",
    "\n",
    "Unique mentions of deep learning frameworks in arxiv papers (full text) over time, based on 43K ML papers from 01/2012 to 02/2018:\n",
    "![](./images/papercite.jpeg?arg)\n",
    "\n",
    "\n",
    "Some motivation to continue this tutorial:\n",
    "<img src=\"./images/fun.png\" alt=\"Drawing\" style=\"width: 720px;\"/>"
   ]
  },
  {
   "cell_type": "markdown",
   "metadata": {},
   "source": [
    "# 2 - PyTorch Under the Hood\n",
    "\n",
    "## PyTorch:  A Superset of NumPy\n",
    "\n",
    "### Tensor: A generalization of scalar, vector and matrix to n-dimensions\n",
    "\n",
    "<img src=\"./images/tensor.png?arg\" alt=\"Drawing\" style=\"width: 640px;\"/>\n",
    "\n",
    "Tensor implementation in Numpy(np.ndarray) & PyTorch(torch.tensor): all elements in a tensor are in one single data type - Why?\n",
    "\n",
    "### NumPy: A python library to manipulate tensors"
   ]
  },
  {
   "cell_type": "code",
   "execution_count": 13,
   "metadata": {},
   "outputs": [
    {
     "name": "stdout",
     "output_type": "stream",
     "text": [
      "numpy ndarray: <class 'numpy.ndarray'>, type: float64, shape: (2, 2)\n"
     ]
    }
   ],
   "source": [
    "import numpy as np\n",
    "\n",
    "a = np.array([[1,2,3],[4,5,6]], dtype=np.float)\n",
    "b = np.array(2, dtype=np.float)\n",
    "c = a + b\n",
    "d = c[:, [0, 2]]\n",
    "assert d.shape == (2, 2)\n",
    "e = d @ np.random.normal(size=(2, 2))\n",
    "\n",
    "print(\"numpy ndarray: {}, type: {}, shape: {}\".format(type(e), e.dtype, e.shape))"
   ]
  },
  {
   "cell_type": "markdown",
   "metadata": {},
   "source": [
    "How to do these operations in PyTorch?"
   ]
  },
  {
   "cell_type": "code",
   "execution_count": 14,
   "metadata": {},
   "outputs": [
    {
     "name": "stdout",
     "output_type": "stream",
     "text": [
      "torch tensor: <class 'torch.Tensor'>, type: torch.float32, shape: torch.Size([2, 2])\n"
     ]
    }
   ],
   "source": [
    "import torch\n",
    "\n",
    "a = torch.tensor([[1,2,3],[4,5,6]], dtype=torch.float)\n",
    "b = torch.tensor(2, dtype=torch.float)\n",
    "c = a + b\n",
    "d = c[:, [0, 2]]\n",
    "assert d.shape == (2, 2)\n",
    "e = d @ torch.randn(2, 2, dtype=torch.float)\n",
    "\n",
    "print(\"torch tensor: {}, type: {}, shape: {}\".format(type(e), e.dtype, e.shape))"
   ]
  },
  {
   "cell_type": "markdown",
   "metadata": {},
   "source": [
    "torch.tensor and np.ndarry has very similar: friendly to NumPy users :)\n",
    "\n",
    "You can convert np.ndarray to torch.tensor and vice versa:"
   ]
  },
  {
   "cell_type": "code",
   "execution_count": 17,
   "metadata": {},
   "outputs": [
    {
     "name": "stdout",
     "output_type": "stream",
     "text": [
      "<class 'torch.Tensor'> <class 'numpy.ndarray'>\n",
      "<class 'numpy.ndarray'> <class 'torch.Tensor'>\n"
     ]
    }
   ],
   "source": [
    "a = torch.ones(2, 2)\n",
    "b = a.numpy()\n",
    "print(type(a), type(b))\n",
    "\n",
    "c = np.ones(5)\n",
    "d = torch.from_numpy(c)\n",
    "print(type(c), type(d))"
   ]
  },
  {
   "cell_type": "markdown",
   "metadata": {},
   "source": [
    "Why do I wanna do this?\n",
    "* Already have many code written in NumPy\n",
    "* Want to extend the PyTorch library using NumPy\n",
    "\n",
    "The best part: there is almost no overhead (5$\\mu$s) no matter how large your tensor is!\n",
    "<img src=\"./images/convert.png?arg\" alt=\"Drawing\" style=\"width: 320px;\"/>\n",
    "\n",
    "How can this be done?\n",
    "<img src=\"./images/ndarray-tensor.png?arg\" alt=\"Drawing\" style=\"width: 320px;\"/>\n",
    "\n",
    "Let's prove it in the code:"
   ]
  },
  {
   "cell_type": "code",
   "execution_count": 27,
   "metadata": {},
   "outputs": [
    {
     "name": "stdout",
     "output_type": "stream",
     "text": [
      "tensor([[2., 2.],\n",
      "        [2., 2.]])\n",
      "[[10. 10.]\n",
      " [10. 10.]]\n",
      "data address of a: 140368218834816\n",
      "data address of c: 140368218834816\n"
     ]
    }
   ],
   "source": [
    "a = torch.ones(2, 2)\n",
    "b = a.numpy()\n",
    "\n",
    "b += 1 # in-place operation\n",
    "print(a)\n",
    "\n",
    "c = torch.from_numpy(b)\n",
    "c.mul_(5) # in-place operation\n",
    "print(b)\n",
    "\n",
    "print(\"data address of a:\", a.storage().data_ptr())\n",
    "print(\"data address of c:\", c.storage().data_ptr())"
   ]
  },
  {
   "cell_type": "markdown",
   "metadata": {},
   "source": [
    "## Beyond NumPy: GPU Accelerate\n",
    "\n",
    "Tensors are default living in CPU, but they can be moved to GPU several simple lines of code:"
   ]
  },
  {
   "cell_type": "code",
   "execution_count": 28,
   "metadata": {},
   "outputs": [
    {
     "name": "stdout",
     "output_type": "stream",
     "text": [
      "cpu cpu\n",
      "tensor([[1.4312, 1.5242],\n",
      "        [1.5099, 2.3998]]) cpu\n"
     ]
    }
   ],
   "source": [
    "x = torch.randn((2, 2))\n",
    "y = torch.randn((2, 2))\n",
    "print(x.device, y.device)\n",
    "if torch.cuda.is_available():\n",
    "    x = x.cuda() # move to gpu\n",
    "    y = y.cuda() # move to gpu\n",
    "z = x + y\n",
    "print(z, z.device)"
   ]
  },
  {
   "cell_type": "markdown",
   "metadata": {},
   "source": [
    "Or simply once for all:"
   ]
  },
  {
   "cell_type": "code",
   "execution_count": 29,
   "metadata": {},
   "outputs": [
    {
     "name": "stdout",
     "output_type": "stream",
     "text": [
      "tensor([[-1.2971, -0.3420],\n",
      "        [ 0.4912, -2.1065]]) cpu\n"
     ]
    }
   ],
   "source": [
    "dev = 'cuda:0' if torch.cuda.is_available() else 'cpu'\n",
    "x = torch.randn((2, 2), device=dev)  # create in cpu/gpu\n",
    "y = torch.randn((2, 2)).to(x.device) # create in cpu & move to cpu/gpu\n",
    "z = x + y\n",
    "print(z, z.device)"
   ]
  },
  {
   "cell_type": "markdown",
   "metadata": {},
   "source": [
    "## Beyond NumPy: Automatic Differentiation\n",
    "\n",
    "Backpropagation is a simple but powerful method to train aritificial neural network followed by gradient descent.\n",
    "\n",
    "Just like other popular DL frameworks, PyTorch adpots reverse-mode automatic differentiation to implement backpropagation. They all build a computational graph and computes gradient of each parameter using the chain rule.\n",
    "\n",
    "Take $y = \\textbf{w}^T\\textbf{x} + b$ for example:\n",
    "\n",
    "<img src=\"./images/bp.png?arg\" alt=\"Drawing\" style=\"width: 320px;\"/>\n",
    "\n",
    "### Compute Gradient in PyTorch\n",
    "Let's see how to compute gradient in PyTorch.\n",
    "\n",
    "AD related properties in torch.Tensor:\n",
    "\n",
    "| Name | Description |\n",
    "| :------: | :------: |\n",
    "| requires_grad | default: False |\n",
    "| is_leaf | requires_grad=False or created by user |\n",
    "| grad | accumulated gradient, need to be reset after each iteration |\n",
    "| grad_fn | the Function that created the tensor |\n",
    "\n",
    "Call backward() on a torch.Tensor to compute it's gradient:"
   ]
  },
  {
   "cell_type": "code",
   "execution_count": 54,
   "metadata": {
    "scrolled": true
   },
   "outputs": [
    {
     "name": "stdout",
     "output_type": "stream",
     "text": [
      "x: require_grad: False, grad: None, grad_fn: None, is_leaf: True\n",
      "w: require_grad: True, grad: None, grad_fn: None, is_leaf: True\n",
      "b: require_grad: True, grad: None, grad_fn: None, is_leaf: True\n",
      "t: require_grad: True, grad: None, grad_fn: <MmBackward object at 0x11c2d9da0>, is_leaf: False\n",
      "y: require_grad: True, grad: None, grad_fn: <AddBackward0 object at 0x11c2d9f28>, is_leaf: False\n",
      "w.grad= tensor([[1.],\n",
      "        [2.]])\n",
      "b.grad= tensor([1.])\n",
      "x.grad= None\n"
     ]
    }
   ],
   "source": [
    "x = torch.Tensor([[1], [2]])\n",
    "w = torch.Tensor([[5], [7]]).requires_grad_()\n",
    "b = torch.Tensor([-1]).requires_grad_()\n",
    "\n",
    "# y = torch.mm(w.t(), x) + b\n",
    "t = torch.mm(w.t(), x)\n",
    "y = t + b\n",
    "\n",
    "print('x: require_grad: {}, grad: {}, grad_fn: {}, is_leaf: {}'.format(x.requires_grad, x.grad, x.grad_fn, x.is_leaf))\n",
    "print('w: require_grad: {}, grad: {}, grad_fn: {}, is_leaf: {}'.format(w.requires_grad, w.grad, w.grad_fn, w.is_leaf))\n",
    "print('b: require_grad: {}, grad: {}, grad_fn: {}, is_leaf: {}'.format(b.requires_grad, b.grad, b.grad_fn, b.is_leaf))\n",
    "print('t: require_grad: {}, grad: {}, grad_fn: {}, is_leaf: {}'.format(t.requires_grad, t.grad, t.grad_fn, t.is_leaf))\n",
    "print('y: require_grad: {}, grad: {}, grad_fn: {}, is_leaf: {}'.format(y.requires_grad, y.grad, y.grad_fn, y.is_leaf))\n",
    "\n",
    "# w.register_hook(lambda grad: print('dtdw:', grad))\n",
    "# b.register_hook(lambda grad: print('dydb:', grad))\n",
    "# t.register_hook(lambda grad: print('dydt:', grad))\n",
    "# y.register_hook(lambda grad: print('dydy:', grad))\n",
    "\n",
    "y.backward()\n",
    "print('w.grad=', w.grad)\n",
    "print('b.grad=', b.grad)\n",
    "print('x.grad=', x.grad)"
   ]
  },
  {
   "cell_type": "markdown",
   "metadata": {},
   "source": [
    "**Memory is a scarce resource**:\n",
    "\n",
    "Only leaf node's grad will be kept. Call retain_grad() to keep grad for non-leaf nodes:"
   ]
  },
  {
   "cell_type": "code",
   "execution_count": 57,
   "metadata": {},
   "outputs": [
    {
     "name": "stdout",
     "output_type": "stream",
     "text": [
      "t.grad= None\n"
     ]
    }
   ],
   "source": [
    "x = torch.Tensor([[1], [2]])\n",
    "w = torch.Tensor([[5], [7]]).requires_grad_()\n",
    "b = torch.Tensor([-1]).requires_grad_()\n",
    "\n",
    "# y = torch.mm(w.t(), x) + b\n",
    "t = torch.mm(w.t(), x)\n",
    "y = t + b\n",
    "\n",
    "# t.retain_grad()\n",
    "y.backward()\n",
    "print('t.grad=', t.grad)"
   ]
  },
  {
   "cell_type": "markdown",
   "metadata": {},
   "source": [
    "**Memory is a scarce resource**:\n",
    "\n",
    "Intermediate data will be released right after the usage during backprop. Set retain_graph=True to keep the buffer:"
   ]
  },
  {
   "cell_type": "code",
   "execution_count": 61,
   "metadata": {},
   "outputs": [
    {
     "name": "stdout",
     "output_type": "stream",
     "text": [
      "w.grad= tensor([[1.],\n",
      "        [2.]])\n",
      "b.grad= tensor([1.])\n",
      "===second time backward===\n",
      "w.grad= tensor([[2.],\n",
      "        [4.]])\n",
      "b.grad= tensor([2.])\n"
     ]
    }
   ],
   "source": [
    "x = torch.Tensor([[1], [2]])\n",
    "w = torch.Tensor([[5], [7]]).requires_grad_()\n",
    "b = torch.Tensor([-1]).requires_grad_()\n",
    "\n",
    "# y = torch.mm(w.t(), x) + b\n",
    "t = torch.mm(w.t(), x)\n",
    "y = t + b\n",
    "\n",
    "# y.backward(retain_graph=True)\n",
    "y.backward()\n",
    "print('w.grad=', w.grad)\n",
    "print('b.grad=', b.grad)\n",
    "\n",
    "print('===second time backward===')\n",
    "y.backward()\n",
    "print('w.grad=', w.grad)\n",
    "print('b.grad=', b.grad)"
   ]
  },
  {
   "cell_type": "markdown",
   "metadata": {},
   "source": [
    "**Memory is a scarce resource**:\n",
    "\n",
    "Avoid using in-place operations in forward pass!"
   ]
  },
  {
   "cell_type": "code",
   "execution_count": 70,
   "metadata": {},
   "outputs": [
    {
     "name": "stdout",
     "output_type": "stream",
     "text": [
      "w.grad= tensor([[1.],\n",
      "        [2.]])\n",
      "b.grad= tensor([1.])\n"
     ]
    }
   ],
   "source": [
    "x = torch.Tensor([[1], [2]])\n",
    "w = torch.Tensor([[5], [7]]).requires_grad_()\n",
    "b = torch.Tensor([-1]).requires_grad_()\n",
    "\n",
    "# y = torch.mm(w.t(), x) + b\n",
    "t = torch.mm(w.t(), x) # dtdw = x\n",
    "y = t + b\n",
    "\n",
    "x += 3\n",
    "# x = x + 3\n",
    "\n",
    "y.backward()\n",
    "print('w.grad=', w.grad)\n",
    "print('b.grad=', b.grad)"
   ]
  },
  {
   "cell_type": "markdown",
   "metadata": {},
   "source": [
    "### Eager Mode & Script Mode\n",
    "\n",
    "Now let's see what happens when we run the code(eager):\n",
    "![](./images/eager.gif?arg)\n",
    "\n",
    "Dynamic & Imperative: run immediately when encounter (build a new graph each time)\n",
    "\n",
    "Pros:\n",
    "* Flexible\n",
    "* Pythonic\n",
    "* Easy to debug\n",
    "\n",
    "Cons:\n",
    "* Hard to optimize\n",
    "* Significant overhead\n",
    "* Hard to deploy\n",
    "\n",
    "To overcome these drawbacks, PyTorch 1.0 introduced TorchScript, which can convert PyTorch code to serializable and optimizable IR format. There are two ways to translate eager code to script mode:\n",
    "\n",
    "* Tracing\n",
    "* Scripting\n",
    "\n",
    "#### Tracing"
   ]
  },
  {
   "cell_type": "code",
   "execution_count": 89,
   "metadata": {
    "scrolled": true
   },
   "outputs": [
    {
     "name": "stdout",
     "output_type": "stream",
     "text": [
      "w1.grad= tensor([[3.],\n",
      "        [6.]])\n",
      "b1.grad= tensor([1.])\n"
     ]
    }
   ],
   "source": [
    "def trace_foo(x, w, b):\n",
    "    return torch.mm(w.t(), x) + b\n",
    "\n",
    "x = torch.Tensor([[1], [2]])\n",
    "w = torch.Tensor([[5], [7]]).requires_grad_()\n",
    "b = torch.Tensor([-1]).requires_grad_()\n",
    "\n",
    "tmodule = torch.jit.trace(trace_foo, (x, w, b)) # compile\n",
    "\n",
    "x1 = torch.Tensor([[3], [6]])\n",
    "w1 = torch.Tensor([[1], [2]]).requires_grad_()\n",
    "b1 = torch.Tensor([4]).requires_grad_()\n",
    "\n",
    "y = tmodule.forward(x1, w1, b1)\n",
    "\n",
    "y.backward()\n",
    "print('w1.grad=', w1.grad)\n",
    "print('b1.grad=', b1.grad)"
   ]
  },
  {
   "cell_type": "markdown",
   "metadata": {},
   "source": [
    "Easy and straight forward! Train and debug the model in eager mode and convert it with a dummy input.\n",
    "\n",
    "However it will only record the operations triggered by the input:"
   ]
  },
  {
   "cell_type": "code",
   "execution_count": 98,
   "metadata": {},
   "outputs": [
    {
     "name": "stdout",
     "output_type": "stream",
     "text": [
      "b1.grad= tensor([1.])\n",
      "graph(%x : Float(2, 1),\n",
      "      %w : Float(2, 1),\n",
      "      %b : Float(1)):\n",
      "  %6 : Float(1!, 2) = aten::t(%w)\n",
      "  %7 : Float(1, 1) = aten::mm(%6, %x)\n",
      "  %8 : int = prim::Constant[value=1]()\n",
      "  %9 : Float(1, 1) = aten::add(%7, %b, %8)\n",
      "  return (%9)\n",
      "\n"
     ]
    },
    {
     "name": "stderr",
     "output_type": "stream",
     "text": [
      "/Users/momo/anaconda3/lib/python3.7/site-packages/ipykernel_launcher.py:2: TracerWarning: Converting a tensor to a Python boolean might cause the trace to be incorrect. We can't record the data flow of Python values, so this value will be treated as a constant in the future. This means that the trace might not generalize to other inputs!\n",
      "  \n"
     ]
    }
   ],
   "source": [
    "def trace_foo(x, w, b):\n",
    "    if x.mean() > 0:\n",
    "        return torch.mm(w.t(), x) + b\n",
    "    else:\n",
    "        return torch.mm(w.t(), x) - b\n",
    "\n",
    "x = torch.Tensor([[1], [2]])\n",
    "w = torch.Tensor([[5], [7]]).requires_grad_()\n",
    "b = torch.Tensor([-1]).requires_grad_()\n",
    "\n",
    "tmodule = torch.jit.trace(trace_foo, (x, w, b)) # compile\n",
    "\n",
    "x1 = torch.Tensor([[-3], [-6]])\n",
    "w1 = torch.Tensor([[1], [2]]).requires_grad_()\n",
    "b1 = torch.Tensor([4]).requires_grad_()\n",
    "\n",
    "y = tmodule.forward(x1, w1, b1)\n",
    "\n",
    "y.backward()\n",
    "print('b1.grad=', b1.grad) # Error!\n",
    "\n",
    "print(tmodule.graph)"
   ]
  },
  {
   "cell_type": "markdown",
   "metadata": {},
   "source": [
    "#### Scripting"
   ]
  },
  {
   "cell_type": "code",
   "execution_count": 107,
   "metadata": {},
   "outputs": [
    {
     "name": "stdout",
     "output_type": "stream",
     "text": [
      "b.grad= tensor([1.])\n",
      "b1.grad= tensor([-1.])\n",
      "graph(%x : Tensor,\n",
      "      %w : Tensor,\n",
      "      %b : Tensor):\n",
      "  %9 : int = prim::Constant[value=1]()\n",
      "  %4 : int = prim::Constant[value=0]()\n",
      "  %3 : Tensor = aten::mean(%x)\n",
      "  %5 : Tensor = aten::gt(%3, %4)\n",
      "  %6 : bool = prim::Bool(%5)\n",
      "  %15 : Tensor = prim::If(%6)\n",
      "    block0():\n",
      "      %7 : Tensor = aten::t(%w)\n",
      "      %8 : Tensor = aten::mm(%7, %x)\n",
      "      %10 : Tensor = aten::add(%8, %b, %9)\n",
      "      -> (%10)\n",
      "    block1():\n",
      "      %11 : Tensor = aten::t(%w)\n",
      "      %12 : Tensor = aten::mm(%11, %x)\n",
      "      %14 : Tensor = aten::sub(%12, %b, %9)\n",
      "      -> (%14)\n",
      "  return (%15)\n",
      "\n"
     ]
    }
   ],
   "source": [
    "@torch.jit.script\n",
    "def script_foo(x, w, b):\n",
    "    if x.mean() > 0:\n",
    "        return torch.mm(w.t(), x) + b\n",
    "    else:\n",
    "        return torch.mm(w.t(), x) - b\n",
    "\n",
    "x = torch.Tensor([[1], [2]])\n",
    "w = torch.Tensor([[5], [7]]).requires_grad_()\n",
    "b = torch.Tensor([-1]).requires_grad_()\n",
    "\n",
    "y = script_foo(x, w, b)\n",
    "\n",
    "y.backward()\n",
    "print('b.grad=', b.grad)\n",
    "\n",
    "x1 = torch.Tensor([[-3], [-6]])\n",
    "w1 = torch.Tensor([[1], [2]]).requires_grad_()\n",
    "b1 = torch.Tensor([4]).requires_grad_()\n",
    "\n",
    "y = script_foo(x1, w1, b1)\n",
    "\n",
    "y.backward()\n",
    "print('b1.grad=', b1.grad) # Right!\n",
    "\n",
    "print(script_foo.graph)"
   ]
  },
  {
   "cell_type": "markdown",
   "metadata": {},
   "source": [
    "This is how script mode looks like:\n",
    "![](./images/script.gif?arg)\n",
    "\n",
    "It will first compile the whole graph and then feed the input into it. Optimization can be easily done with all the information about the graph. You can reuse the same graph until you detach the output from it."
   ]
  },
  {
   "cell_type": "code",
   "execution_count": 77,
   "metadata": {},
   "outputs": [
    {
     "name": "stdout",
     "output_type": "stream",
     "text": [
      "w.grad= tensor([[1.],\n",
      "        [2.]])\n",
      "b.grad= tensor([1.])\n",
      "w.grad= tensor([[2.],\n",
      "        [4.]])\n",
      "b.grad= tensor([2.])\n"
     ]
    }
   ],
   "source": [
    "@torch.jit.script\n",
    "def script_foo(x, w, b):\n",
    "    return torch.mm(w.t(), x) + b\n",
    "\n",
    "x = torch.Tensor([[1], [2]])\n",
    "w = torch.Tensor([[5], [7]]).requires_grad_()\n",
    "b = torch.Tensor([-1]).requires_grad_()\n",
    "\n",
    "y = script_foo(x, w, b)\n",
    "\n",
    "y.backward()\n",
    "print('w.grad=', w.grad)\n",
    "print('b.grad=', b.grad)\n",
    "\n",
    "y.backward()\n",
    "print('w.grad=', w.grad)\n",
    "print('b.grad=', b.grad)\n",
    "\n",
    "# y.detach_()\n",
    "# y.backward()\n",
    "# print('w.grad=', w.grad)\n",
    "# print('b.grad=', b.grad)"
   ]
  },
  {
   "cell_type": "markdown",
   "metadata": {},
   "source": [
    "## Beyond Numpy: High Level APIs & Utilities for DL\n",
    "\n",
    "* torch.nn\n",
    "* torch.optim\n",
    "* torch.utils.data\n",
    "* torchvision\n",
    "\n",
    "# 3 - Exploring PyTorch API (Demo)\n",
    "\n",
    "Let's build an image classifier using the MNIST dataset!\n",
    "\n",
    "## 1. Prepare the data\n",
    "\n",
    "The MNIST database of handwritten digits has a training set of 60,000 examples and a test set of 10,000 examples. The digits have been size-normalized and centered in a fixed-size image.\n",
    "\n",
    "We can easily download and prepare the data using the package torchvision, which consists of popular datasets, model architectures, and common image transformations for computer vision."
   ]
  },
  {
   "cell_type": "code",
   "execution_count": 112,
   "metadata": {},
   "outputs": [
    {
     "name": "stdout",
     "output_type": "stream",
     "text": [
      "Dataset MNIST\n",
      "    Number of datapoints: 60000\n",
      "    Split: train\n",
      "    Root Location: ./data\n",
      "    Transforms (if any): Compose(\n",
      "                             ToTensor()\n",
      "                             Normalize(mean=(0.1307,), std=(0.3081,))\n",
      "                         )\n",
      "    Target Transforms (if any): None\n",
      "Dataset MNIST\n",
      "    Number of datapoints: 10000\n",
      "    Split: test\n",
      "    Root Location: ./data\n",
      "    Transforms (if any): Compose(\n",
      "                             ToTensor()\n",
      "                             Normalize(mean=(0.1307,), std=(0.3081,))\n",
      "                         )\n",
      "    Target Transforms (if any): None\n"
     ]
    }
   ],
   "source": [
    "import random\n",
    "import torchvision\n",
    "\n",
    "transform = torchvision.transforms.Compose([\n",
    "        torchvision.transforms.ToTensor(),\n",
    "        torchvision.transforms.Normalize((0.1307,), (0.3081,))\n",
    "    ])\n",
    "\n",
    "trainset = torchvision.datasets.MNIST(root='./data', train=True, download=True, transform=transform)\n",
    "testset = torchvision.datasets.MNIST(root='./data', train=False, download=True, transform=transform)\n",
    "\n",
    "print(trainset)\n",
    "print(testset)"
   ]
  },
  {
   "cell_type": "markdown",
   "metadata": {},
   "source": [
    "You can also define your own dataset using `torch.utils.data.Dataset`.\n",
    "\n",
    "We usually need to use SGD to train the model since the whole training set is usually too large. In each iteration, we need to fetch a batch (randomly chosen sample) from the dataset. `torch.utils.data.DataLoader` is responsible for managing batches."
   ]
  },
  {
   "cell_type": "code",
   "execution_count": 115,
   "metadata": {},
   "outputs": [],
   "source": [
    "from torch.utils.data import DataLoader\n",
    "\n",
    "def _worker_init_fn_():\n",
    "        torch_seed = torch.initial_seed()\n",
    "        np_seed = torch_seed // (2**32 -1)\n",
    "        random.seed(torch_seed)\n",
    "        np.random.seed(np_seed)\n",
    "\n",
    "trainloader = DataLoader(trainset, batch_size=64, shuffle=True, num_workers=4, worker_init_fn=_worker_init_fn_())\n",
    "testloader = DataLoader(testset, batch_size=500, shuffle=False, num_workers=4)"
   ]
  },
  {
   "cell_type": "markdown",
   "metadata": {},
   "source": [
    "Let's take a look at the data:"
   ]
  },
  {
   "cell_type": "code",
   "execution_count": 119,
   "metadata": {
    "scrolled": false
   },
   "outputs": [
    {
     "data": {
      "image/png": "[encoded data removed]",
      "text/plain": [
       "<Figure size 432x288 with 1 Axes>"
      ]
     },
     "metadata": {
      "needs_background": "light"
     },
     "output_type": "display_data"
    },
    {
     "name": "stdout",
     "output_type": "stream",
     "text": [
      "Labels:    3   5   3   0   4   7   7   0\n"
     ]
    }
   ],
   "source": [
    "%matplotlib inline\n",
    "import matplotlib.pyplot as plt\n",
    "\n",
    "def imshow(img):\n",
    "    img = img * 0.3081 + 0.1307\n",
    "    npimg = img.numpy()\n",
    "    plt.imshow(np.transpose(npimg, (1, 2, 0)), cmap=\"gray\")\n",
    "    plt.show()\n",
    "\n",
    "# get some random images\n",
    "dataiter = iter(trainloader)\n",
    "images, labels = dataiter.next()\n",
    "\n",
    "# show images\n",
    "imshow(torchvision.utils.make_grid(images[:8]))\n",
    "# print labels\n",
    "print('Labels:', ''.join('%4d' % j.item() for j in labels[:8]))"
   ]
  },
  {
   "cell_type": "markdown",
   "metadata": {},
   "source": [
    "## 2. Define the model\n",
    "\n",
    "![](./images/cnn.png?arg)\n",
    "\n",
    "`torch.nn.Module` is a base class for all neural network modules. It can track all the parameters and status. We need to define our model as a subclass of it and overide the `__init__()` and `forward()` method. We can define our module by using the submodules that `torch.nn` has already provided, like Convolution Layer, Linear Layer, Pooling Layer and Dropout Layers...:"
   ]
  },
  {
   "cell_type": "code",
   "execution_count": 120,
   "metadata": {},
   "outputs": [],
   "source": [
    "import torch.nn as nn\n",
    "\n",
    "device = torch.device(\"cuda\" if torch.cuda.is_available() else \"cpu\")\n",
    "\n",
    "class Net(nn.Module):\n",
    "    def __init__(self):\n",
    "        super(Net, self).__init__()\n",
    "        self.convnet = nn.Sequential(\n",
    "            nn.Conv2d(in_channels=1, out_channels=32, kernel_size=5, stride=1, padding=2),\n",
    "            nn.ReLU(),\n",
    "            nn.MaxPool2d(kernel_size=2, stride=2),\n",
    "            nn.Conv2d(in_channels=32, out_channels=64, kernel_size=5, stride=1, padding=2),\n",
    "            nn.ReLU(),\n",
    "            nn.MaxPool2d(kernel_size=2, stride=2)\n",
    "        )\n",
    "        self.fnn = nn.Sequential(\n",
    "            nn.Linear(7*7*64, 256),\n",
    "            nn.ReLU(),\n",
    "            nn.Linear(256, 10)\n",
    "        )\n",
    "\n",
    "    def forward(self, x):\n",
    "        x = self.convnet(x)\n",
    "        x = x.view(-1, 7*7*64)\n",
    "        x = self.fnn(x)\n",
    "        return x    \n",
    "\n",
    "net = Net().to(device)"
   ]
  },
  {
   "cell_type": "markdown",
   "metadata": {},
   "source": [
    "## 3. Define Loss\n",
    "\n",
    "`torch.nn` package also provides a bunch of common loss functions, here we use cross entropy loss:"
   ]
  },
  {
   "cell_type": "code",
   "execution_count": 123,
   "metadata": {},
   "outputs": [],
   "source": [
    "criterion = nn.CrossEntropyLoss() # softmax + nll!"
   ]
  },
  {
   "cell_type": "markdown",
   "metadata": {},
   "source": [
    "## 4. Define Optimization Method\n",
    "\n",
    "`torch.optim` is a package implementing various optimization algorithms:"
   ]
  },
  {
   "cell_type": "code",
   "execution_count": 121,
   "metadata": {},
   "outputs": [],
   "source": [
    "import torch.optim as optim\n",
    "\n",
    "optimizer = optim.SGD(net.parameters(), lr=0.001, momentum=0.9)"
   ]
  },
  {
   "cell_type": "markdown",
   "metadata": {},
   "source": [
    "## 5. Train\n",
    "\n",
    "Let's see how these components work together:"
   ]
  },
  {
   "cell_type": "code",
   "execution_count": 131,
   "metadata": {
    "scrolled": false
   },
   "outputs": [
    {
     "name": "stdout",
     "output_type": "stream",
     "text": [
      "[1,   100] loss: 0.202\n",
      "[1,   200] loss: 0.191\n",
      "[1,   300] loss: 0.163\n",
      "[1,   400] loss: 0.155\n",
      "[1,   500] loss: 0.151\n",
      "[1,   600] loss: 0.138\n",
      "[1,   700] loss: 0.134\n",
      "[1,   800] loss: 0.118\n",
      "[1,   900] loss: 0.107\n",
      "Finished Training\n"
     ]
    }
   ],
   "source": [
    "for epoch in range(2):  # loop over the dataset multiple times\n",
    "    running_loss = 0.0\n",
    "    for i, data in enumerate(trainloader, 0):\n",
    "        # get the inputs\n",
    "        inputs, labels = data\n",
    "\n",
    "        # zero the parameter gradients: set all parameter tensors's grad to 0\n",
    "        optimizer.zero_grad()\n",
    "\n",
    "        # forward: build the backward graph\n",
    "        outputs = net(inputs)\n",
    "        loss = criterion(outputs, labels)\n",
    "        \n",
    "        # backward: compute gradients\n",
    "        loss.backward()\n",
    "        \n",
    "        # gradient descent: update all parameter tensors with its grad\n",
    "        optimizer.step()\n",
    "\n",
    "        # print loss\n",
    "        running_loss += loss.item()\n",
    "        if i % 100 == 99:    # print every 100 mini-batches\n",
    "            print('[%d, %5d] loss: %.3f' %\n",
    "                  (epoch + 1, i + 1, running_loss / 100))\n",
    "            running_loss = 0.0\n",
    "\n",
    "print('Finished Training')"
   ]
  },
  {
   "cell_type": "markdown",
   "metadata": {},
   "source": [
    "## 6. Test\n",
    "\n",
    "Let's test our model's performance:"
   ]
  },
  {
   "cell_type": "code",
   "execution_count": 132,
   "metadata": {},
   "outputs": [
    {
     "name": "stdout",
     "output_type": "stream",
     "text": [
      "Accuracy of the network on the 10000 test images: 97 %\n"
     ]
    }
   ],
   "source": [
    "correct = 0\n",
    "total = 0\n",
    "\n",
    "# no graph need to be build here\n",
    "with torch.no_grad():\n",
    "    for data in testloader:\n",
    "        images, labels = data\n",
    "        outputs = net(images)\n",
    "        _, predicted = torch.max(outputs.data, 1)\n",
    "        total += labels.size(0)\n",
    "        correct += (predicted == labels).sum().item()\n",
    "\n",
    "print('Accuracy of the network on the 10000 test images: %d %%' % (\n",
    "    100 * correct / total))"
   ]
  },
  {
   "cell_type": "markdown",
   "metadata": {},
   "source": [
    "Let's see some test result:"
   ]
  },
  {
   "cell_type": "code",
   "execution_count": 134,
   "metadata": {},
   "outputs": [
    {
     "data": {
      "image/png": "[encoded data removed]",
      "text/plain": [
       "<Figure size 432x288 with 1 Axes>"
      ]
     },
     "metadata": {
      "needs_background": "light"
     },
     "output_type": "display_data"
    },
    {
     "name": "stdout",
     "output_type": "stream",
     "text": [
      "Ground Truth    7   2   1   0   4   1   4   9\n",
      "Prediction    7   2   1   0   4   1   4   9\n"
     ]
    }
   ],
   "source": [
    "dataiter = iter(testloader)\n",
    "images, labels = dataiter.next()\n",
    "\n",
    "# print images\n",
    "imshow(torchvision.utils.make_grid(images[:8]))\n",
    "print('Ground Truth', ''.join('%4d' % j.item() for j in labels[:8]))\n",
    "\n",
    "outputs = net(images)\n",
    "_, predicted = torch.max(outputs, 1)\n",
    "print('Prediction', ''.join('%4d' % j.item() for j in predicted[:8]))"
   ]
  },
  {
   "cell_type": "markdown",
   "metadata": {},
   "source": [
    "# Takeaways\n",
    "\n",
    "PyTorch = NumPy + GPU + AD Engine + DL APIs & Utilities "
   ]
  }
 ],
 "metadata": {
  "kernelspec": {
   "display_name": "Python 3",
   "language": "python",
   "name": "python3"
  },
  "language_info": {
   "codemirror_mode": {
    "name": "ipython",
    "version": 3
   },
   "file_extension": ".py",
   "mimetype": "text/x-python",
   "name": "python",
   "nbconvert_exporter": "python",
   "pygments_lexer": "ipython3",
   "version": "3.7.1"
  }
 },
 "nbformat": 4,
 "nbformat_minor": 2
}
