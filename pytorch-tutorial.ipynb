{
 "cells": [
  {
   "cell_type": "markdown",
   "metadata": {
    "nbpresent": {
     "id": "b79055a7-7458-4cb8-8367-45d7e32cffe1"
    },
    "slideshow": {
     "slide_type": "slide"
    }
   },
   "source": [
    "![](./images/pytorch-logo.png)\n",
    "\n",
    "# PyTorch Tutorial\n",
    "\n",
    "## Outline:\n",
    "\n",
    "1. Overview of Deep Learning Frameworks\n",
    "2. PyTorch Under the Hood\n",
    "3. Exploring PyTorch API by Building an Image Classifer"
   ]
  },
  {
   "cell_type": "markdown",
   "metadata": {
    "nbpresent": {
     "id": "240d651c-a0dd-4790-aed7-99dfa0bedab0"
    },
    "slideshow": {
     "slide_type": "slide"
    }
   },
   "source": [
    "# 1 - Overview of Deep Learning Frameworks\n",
    "\n",
    "<img src=\"./images/frameworks.png?arg\" alt=\"Drawing\" style=\"width: 720px;\"/>\n",
    "<img src=\"./images/chart-twitter.png?arg\" alt=\"Drawing\" style=\"width: 720px;\"/>\n",
    "\n",
    "Some motivation to continue this tutorial:\n",
    "<img src=\"./images/fun.png\" alt=\"Drawing\" style=\"width: 720px;\"/>"
   ]
  },
  {
   "cell_type": "markdown",
   "metadata": {
    "nbpresent": {
     "id": "8ba32b40-1771-4676-a4b4-79f75823e760"
    },
    "slideshow": {
     "slide_type": "slide"
    }
   },
   "source": [
    "# 2 - PyTorch Under the Hood\n",
    "\n",
    "## Tensor: A generalization of scalar, vector and matrix to n-dimensions\n",
    "\n",
    "<img src=\"./images/tensor.png?arg\" alt=\"Drawing\" style=\"width: 640px;\"/>\n",
    "\n",
    "Tensors in a deep learning model: input, parameters, output, loss...\n",
    "\n",
    "Different model: applying different operations on tensors\n",
    "\n",
    "## NumPy: A python library to manipulate tensors\n",
    "\n",
    "Tensor implementation in Numpy(np.ndarray): all elements in a tensor are in one single data type - Why?"
   ]
  },
  {
   "cell_type": "code",
   "execution_count": 1,
   "metadata": {
    "nbpresent": {
     "id": "8637a049-7b98-4b71-bf68-895720f1cacf"
    },
    "slideshow": {
     "slide_type": "slide"
    }
   },
   "outputs": [
    {
     "name": "stdout",
     "output_type": "stream",
     "text": [
      "numpy ndarray: <class 'numpy.ndarray'>, type: float64, shape: (2, 2)\n"
     ]
    }
   ],
   "source": [
    "import numpy as np\n",
    "\n",
    "a = np.array([[1,2,3],[4,5,6]], dtype=np.float)\n",
    "b = np.array(2, dtype=np.float)\n",
    "c = a + b\n",
    "d = c[:, [0, 2]]\n",
    "assert d.shape == (2, 2)\n",
    "e = d @ np.random.normal(size=(2, 2))\n",
    "\n",
    "print(\"numpy ndarray: {}, type: {}, shape: {}\".format(type(e), e.dtype, e.shape))"
   ]
  },
  {
   "cell_type": "markdown",
   "metadata": {
    "nbpresent": {
     "id": "2276bd04-1c43-42ed-8f56-847380d905b6"
    },
    "slideshow": {
     "slide_type": "slide"
    }
   },
   "source": [
    "## PyTorch:  A Superset of NumPy\n",
    "\n",
    "\n",
    "How to do these operations in PyTorch?"
   ]
  },
  {
   "cell_type": "code",
   "execution_count": 2,
   "metadata": {
    "nbpresent": {
     "id": "579cf341-5854-494e-b6b6-88b3812abb4f"
    },
    "slideshow": {
     "slide_type": "slide"
    }
   },
   "outputs": [
    {
     "name": "stdout",
     "output_type": "stream",
     "text": [
      "torch tensor: <class 'torch.Tensor'>, type: torch.float32, shape: torch.Size([2, 2])\n"
     ]
    }
   ],
   "source": [
    "import torch\n",
    "\n",
    "a = torch.tensor([[1,2,3],[4,5,6]], dtype=torch.float)\n",
    "b = torch.tensor(2, dtype=torch.float)\n",
    "c = a + b\n",
    "d = c[:, [0, 2]]\n",
    "assert d.shape == (2, 2)\n",
    "e = d @ torch.randn(2, 2, dtype=torch.float)\n",
    "\n",
    "print(\"torch tensor: {}, type: {}, shape: {}\".format(type(e), e.dtype, e.shape))"
   ]
  },
  {
   "cell_type": "markdown",
   "metadata": {
    "nbpresent": {
     "id": "c0813bc4-316e-4734-ac60-846cbb625869"
    },
    "slideshow": {
     "slide_type": "slide"
    }
   },
   "source": [
    "torch.tensor and np.ndarry has very similar: friendly to NumPy users :)\n",
    "\n",
    "You can convert np.ndarray to torch.tensor and vice versa:"
   ]
  },
  {
   "cell_type": "code",
   "execution_count": 3,
   "metadata": {
    "nbpresent": {
     "id": "d4a19c6b-09af-47e1-af84-dfe0aa894d2f"
    },
    "slideshow": {
     "slide_type": "slide"
    }
   },
   "outputs": [
    {
     "name": "stdout",
     "output_type": "stream",
     "text": [
      "<class 'torch.Tensor'> <class 'numpy.ndarray'>\n",
      "<class 'numpy.ndarray'> <class 'torch.Tensor'>\n"
     ]
    }
   ],
   "source": [
    "a = torch.ones(2, 2)\n",
    "b = a.numpy()\n",
    "print(type(a), type(b))\n",
    "\n",
    "c = np.ones(5)\n",
    "d = torch.from_numpy(c)\n",
    "print(type(c), type(d))"
   ]
  },
  {
   "cell_type": "markdown",
   "metadata": {
    "nbpresent": {
     "id": "32cbf300-304f-4700-ab58-552579f35c72"
    },
    "slideshow": {
     "slide_type": "slide"
    }
   },
   "source": [
    "Why do I wanna do this?\n",
    "* Already have many code written in NumPy\n",
    "* Want to extend the PyTorch library using NumPy\n",
    "\n",
    "The best part: there is almost no overhead (5$\\mu$s) no matter how large your tensor is!\n",
    "<img src=\"./images/convert.png?arg\" alt=\"Drawing\" style=\"width: 320px;\"/>\n",
    "\n",
    "How can this be done?\n",
    "<img src=\"./images/ndarray-tensor.png?arg\" alt=\"Drawing\" style=\"width: 320px;\"/>\n",
    "\n",
    "Let's prove it in the code:"
   ]
  },
  {
   "cell_type": "code",
   "execution_count": 4,
   "metadata": {
    "nbpresent": {
     "id": "98da9abe-cff0-472d-bcf8-d0b4333b9a69"
    },
    "slideshow": {
     "slide_type": "slide"
    }
   },
   "outputs": [
    {
     "name": "stdout",
     "output_type": "stream",
     "text": [
      "tensor([[2., 2.],\n",
      "        [2., 2.]])\n",
      "[[10. 10.]\n",
      " [10. 10.]]\n",
      "data address of a: 94598365054464\n",
      "data address of c: 94598365054464\n"
     ]
    }
   ],
   "source": [
    "a = torch.ones(2, 2)\n",
    "b = a.numpy()\n",
    "\n",
    "b += 1 # in-place operation\n",
    "print(a)\n",
    "\n",
    "c = torch.from_numpy(b)\n",
    "c.mul_(5) # in-place operation\n",
    "print(b)\n",
    "\n",
    "print(\"data address of a:\", a.storage().data_ptr())\n",
    "print(\"data address of c:\", c.storage().data_ptr())"
   ]
  },
  {
   "cell_type": "markdown",
   "metadata": {
    "nbpresent": {
     "id": "02ce32e7-b493-43bf-95f5-920fccbeff4d"
    },
    "slideshow": {
     "slide_type": "slide"
    }
   },
   "source": [
    "## Beyond NumPy: GPU Accelerate\n",
    "\n",
    "Tensors are default living in CPU, but they can be moved to GPU several simple lines of code:"
   ]
  },
  {
   "cell_type": "code",
   "execution_count": 5,
   "metadata": {
    "nbpresent": {
     "id": "6ef1b669-8d9c-4df4-8fbd-040985dad6e2"
    },
    "slideshow": {
     "slide_type": "slide"
    }
   },
   "outputs": [
    {
     "name": "stdout",
     "output_type": "stream",
     "text": [
      "cpu cpu\n",
      "tensor([[0.6101, 0.4087],\n",
      "        [0.3623, 0.1728]], device='cuda:0') cuda:0\n"
     ]
    }
   ],
   "source": [
    "x = torch.randn((2, 2))\n",
    "y = torch.randn((2, 2))\n",
    "print(x.device, y.device)\n",
    "if torch.cuda.is_available():\n",
    "    x = x.cuda() # move to gpu\n",
    "    y = y.cuda() # move to gpu\n",
    "z = x + y\n",
    "print(z, z.device)"
   ]
  },
  {
   "cell_type": "markdown",
   "metadata": {
    "nbpresent": {
     "id": "0e9a3b71-4eba-4393-9d51-09e22f4a33a2"
    },
    "slideshow": {
     "slide_type": "slide"
    }
   },
   "source": [
    "Or simply once for all:"
   ]
  },
  {
   "cell_type": "code",
   "execution_count": 6,
   "metadata": {
    "nbpresent": {
     "id": "380f9416-55fd-4fb4-bcc7-73da8513ca54"
    },
    "slideshow": {
     "slide_type": "slide"
    }
   },
   "outputs": [
    {
     "name": "stdout",
     "output_type": "stream",
     "text": [
      "tensor([[ 1.6571, -3.2014],\n",
      "        [ 0.8214,  1.7770]], device='cuda:0') cuda:0\n"
     ]
    }
   ],
   "source": [
    "dev = 'cuda:0' if torch.cuda.is_available() else 'cpu'\n",
    "x = torch.randn((2, 2), device=dev)  # create in cpu/gpu\n",
    "y = torch.randn((2, 2)).to(x.device) # create in cpu & move to cpu/gpu\n",
    "z = x + y\n",
    "print(z, z.device)"
   ]
  },
  {
   "cell_type": "markdown",
   "metadata": {
    "nbpresent": {
     "id": "b0ad578d-5f91-4313-9916-cb17c6ee9b91"
    },
    "slideshow": {
     "slide_type": "slide"
    }
   },
   "source": [
    "## Beyond NumPy: Automatic Differentiation\n",
    "\n",
    "Backpropagation is a simple but powerful method to train aritificial neural network followed by gradient descent.\n",
    "\n",
    "Just like other popular DL frameworks, PyTorch adpots reverse-mode automatic differentiation to implement backpropagation. They all build a computational graph and computes gradient of each parameter using the chain rule.\n",
    "\n",
    "Take $y = \\textbf{w}^T\\textbf{x} + b$ for example:\n",
    "\n",
    "<img src=\"./images/bp.png?arg\" alt=\"Drawing\" style=\"width: 320px;\"/>\n",
    "\n",
    "### Compute Gradient in PyTorch\n",
    "Let's see how to compute gradient in PyTorch.\n",
    "\n",
    "AD related properties in torch.Tensor:\n",
    "\n",
    "| Name | Description |\n",
    "| :------: | :------: |\n",
    "| requires_grad | default: False |\n",
    "| is_leaf | requires_grad=False or created by user |\n",
    "| grad | accumulated gradient, need to be reset after each iteration |\n",
    "| grad_fn | the Function that created the tensor |\n",
    "\n",
    "Call backward() on a torch.Tensor to compute it's gradient:"
   ]
  },
  {
   "cell_type": "code",
   "execution_count": 8,
   "metadata": {
    "nbpresent": {
     "id": "4647932c-c578-4c4f-a2f1-510225b0ffb6"
    },
    "scrolled": true,
    "slideshow": {
     "slide_type": "slide"
    }
   },
   "outputs": [
    {
     "name": "stdout",
     "output_type": "stream",
     "text": [
      "x: require_grad: False, grad: None, grad_fn: None, is_leaf: True\n",
      "w: require_grad: True, grad: None, grad_fn: None, is_leaf: True\n",
      "b: require_grad: True, grad: None, grad_fn: None, is_leaf: True\n",
      "t: require_grad: True, grad: None, grad_fn: <MmBackward object at 0x7f9344593390>, is_leaf: False\n",
      "y: require_grad: True, grad: None, grad_fn: <AddBackward0 object at 0x7f93b05fe9e8>, is_leaf: False\n",
      "dydy: tensor([[1.]])\n",
      "dydb: tensor([1.])\n",
      "dydt: tensor([[1.]])\n",
      "dtdw: tensor([[1.],\n",
      "        [2.]])\n",
      "w.grad= tensor([[1.],\n",
      "        [2.]])\n",
      "b.grad= tensor([1.])\n",
      "x.grad= None\n"
     ]
    }
   ],
   "source": [
    "x = torch.Tensor([[1], [2]])\n",
    "w = torch.Tensor([[5], [7]]).requires_grad_()\n",
    "b = torch.Tensor([-1]).requires_grad_()\n",
    "\n",
    "# y = torch.mm(w.t(), x) + b\n",
    "t = torch.mm(w.t(), x)\n",
    "y = t + b\n",
    "\n",
    "print('x: require_grad: {}, grad: {}, grad_fn: {}, is_leaf: {}'.format(x.requires_grad, x.grad, x.grad_fn, x.is_leaf))\n",
    "print('w: require_grad: {}, grad: {}, grad_fn: {}, is_leaf: {}'.format(w.requires_grad, w.grad, w.grad_fn, w.is_leaf))\n",
    "print('b: require_grad: {}, grad: {}, grad_fn: {}, is_leaf: {}'.format(b.requires_grad, b.grad, b.grad_fn, b.is_leaf))\n",
    "print('t: require_grad: {}, grad: {}, grad_fn: {}, is_leaf: {}'.format(t.requires_grad, t.grad, t.grad_fn, t.is_leaf))\n",
    "print('y: require_grad: {}, grad: {}, grad_fn: {}, is_leaf: {}'.format(y.requires_grad, y.grad, y.grad_fn, y.is_leaf))\n",
    "\n",
    "# w.register_hook(lambda grad: print('dtdw:', grad))\n",
    "# b.register_hook(lambda grad: print('dydb:', grad))\n",
    "# t.register_hook(lambda grad: print('dydt:', grad))\n",
    "# y.register_hook(lambda grad: print('dydy:', grad))\n",
    "\n",
    "y.backward()\n",
    "print('w.grad=', w.grad)\n",
    "print('b.grad=', b.grad)\n",
    "print('x.grad=', x.grad)"
   ]
  },
  {
   "cell_type": "markdown",
   "metadata": {
    "nbpresent": {
     "id": "eb8390e0-bfc5-47d6-a1f9-00f00c5f1898"
    },
    "slideshow": {
     "slide_type": "slide"
    }
   },
   "source": [
    "**Memory is a scarce resource**:\n",
    "\n",
    "Only leaf node's grad will be kept. Call retain_grad() to keep grad for non-leaf nodes:"
   ]
  },
  {
   "cell_type": "code",
   "execution_count": 10,
   "metadata": {
    "nbpresent": {
     "id": "0f0f227e-1bf7-4f5a-84f4-87984961f1e4"
    },
    "slideshow": {
     "slide_type": "slide"
    }
   },
   "outputs": [
    {
     "name": "stdout",
     "output_type": "stream",
     "text": [
      "t.grad= tensor([[1.]])\n"
     ]
    }
   ],
   "source": [
    "x = torch.Tensor([[1], [2]])\n",
    "w = torch.Tensor([[5], [7]]).requires_grad_()\n",
    "b = torch.Tensor([-1]).requires_grad_()\n",
    "\n",
    "# y = torch.mm(w.t(), x) + b\n",
    "t = torch.mm(w.t(), x)\n",
    "y = t + b\n",
    "\n",
    "# t.retain_grad()\n",
    "y.backward()\n",
    "print('t.grad=', t.grad)"
   ]
  },
  {
   "cell_type": "markdown",
   "metadata": {
    "nbpresent": {
     "id": "5234e648-0886-487a-a0e0-193f08e29523"
    },
    "slideshow": {
     "slide_type": "slide"
    }
   },
   "source": [
    "**Memory is a scarce resource**:\n",
    "\n",
    "Intermediate data will be released right after the usage during backprop. Set retain_graph=True to keep the buffer:"
   ]
  },
  {
   "cell_type": "code",
   "execution_count": 12,
   "metadata": {
    "nbpresent": {
     "id": "6056a5b3-fc51-4f7e-bb71-3e25396aa5c2"
    },
    "slideshow": {
     "slide_type": "slide"
    }
   },
   "outputs": [
    {
     "name": "stdout",
     "output_type": "stream",
     "text": [
      "w.grad= tensor([[1.],\n",
      "        [2.]])\n",
      "b.grad= tensor([1.])\n",
      "===second time backward===\n",
      "w.grad= tensor([[2.],\n",
      "        [4.]])\n",
      "b.grad= tensor([2.])\n"
     ]
    }
   ],
   "source": [
    "x = torch.Tensor([[1], [2]])\n",
    "w = torch.Tensor([[5], [7]]).requires_grad_()\n",
    "b = torch.Tensor([-1]).requires_grad_()\n",
    "\n",
    "# y = torch.mm(w.t(), x) + b\n",
    "t = torch.mm(w.t(), x)\n",
    "y = t + b\n",
    "\n",
    "# y.backward(retain_graph=True)\n",
    "y.backward()\n",
    "print('w.grad=', w.grad)\n",
    "print('b.grad=', b.grad)\n",
    "\n",
    "print('===second time backward===')\n",
    "y.backward()\n",
    "print('w.grad=', w.grad)\n",
    "print('b.grad=', b.grad)"
   ]
  },
  {
   "cell_type": "markdown",
   "metadata": {
    "nbpresent": {
     "id": "d611809d-f5c7-45cf-85a7-993b98503172"
    },
    "slideshow": {
     "slide_type": "slide"
    }
   },
   "source": [
    "**Memory is a scarce resource**:\n",
    "\n",
    "Avoid using in-place operations in forward pass!"
   ]
  },
  {
   "cell_type": "code",
   "execution_count": 14,
   "metadata": {
    "nbpresent": {
     "id": "960886da-2801-4055-ab98-4f75d10df707"
    },
    "slideshow": {
     "slide_type": "slide"
    }
   },
   "outputs": [
    {
     "name": "stdout",
     "output_type": "stream",
     "text": [
      "w.grad= tensor([[1.],\n",
      "        [2.]])\n",
      "b.grad= tensor([1.])\n"
     ]
    }
   ],
   "source": [
    "x = torch.Tensor([[1], [2]])\n",
    "w = torch.Tensor([[5], [7]]).requires_grad_()\n",
    "b = torch.Tensor([-1]).requires_grad_()\n",
    "\n",
    "# y = torch.mm(w.t(), x) + b\n",
    "t = torch.mm(w.t(), x) # dtdw = x\n",
    "y = t + b\n",
    "\n",
    "x += 3\n",
    "# x = x + 3\n",
    "\n",
    "y.backward()\n",
    "print('w.grad=', w.grad)\n",
    "print('b.grad=', b.grad)"
   ]
  },
  {
   "cell_type": "markdown",
   "metadata": {
    "nbpresent": {
     "id": "c63d003b-645a-4897-a216-f2778276f6a4"
    },
    "slideshow": {
     "slide_type": "slide"
    }
   },
   "source": [
    "### Eager Mode & Script Mode\n",
    "\n",
    "Now let's see what happens when we run the code(eager):\n",
    "![](./images/eager.gif?arg)\n",
    "\n",
    "Dynamic & Imperative: run immediately when encounter (build a new graph each time)\n",
    "\n",
    "Pros:\n",
    "* Flexible\n",
    "* Pythonic\n",
    "* Easy to debug\n",
    "\n",
    "Cons:\n",
    "* Hard to optimize\n",
    "* Significant overhead\n",
    "* Hard to deploy\n",
    "\n",
    "To overcome these drawbacks, PyTorch 1.0 introduced TorchScript, which can convert PyTorch code to serializable and optimizable IR format. There are two ways to translate eager code to script mode:\n",
    "\n",
    "* Tracing\n",
    "* Scripting\n",
    "\n",
    "#### Tracing"
   ]
  },
  {
   "cell_type": "code",
   "execution_count": 16,
   "metadata": {
    "nbpresent": {
     "id": "8c4362e0-3cfe-4edc-9d3c-5d3898321b5a"
    },
    "scrolled": true,
    "slideshow": {
     "slide_type": "slide"
    }
   },
   "outputs": [
    {
     "name": "stdout",
     "output_type": "stream",
     "text": [
      "w1.grad= tensor([[3.],\n",
      "        [6.]])\n",
      "b1.grad= tensor([1.])\n"
     ]
    }
   ],
   "source": [
    "def trace_foo(x, w, b):\n",
    "    return torch.mm(w.t(), x) + b\n",
    "\n",
    "x = torch.Tensor([[1], [2]])\n",
    "w = torch.Tensor([[5], [7]]).requires_grad_()\n",
    "b = torch.Tensor([-1]).requires_grad_()\n",
    "\n",
    "tmodule = torch.jit.trace(trace_foo, (x, w, b)) # compile\n",
    "\n",
    "x1 = torch.Tensor([[3], [6]])\n",
    "w1 = torch.Tensor([[1], [2]]).requires_grad_()\n",
    "b1 = torch.Tensor([4]).requires_grad_()\n",
    "\n",
    "y = tmodule(x1, w1, b1)\n",
    "\n",
    "y.backward()\n",
    "print('w1.grad=', w1.grad)\n",
    "print('b1.grad=', b1.grad)"
   ]
  },
  {
   "cell_type": "markdown",
   "metadata": {
    "nbpresent": {
     "id": "47657f7a-06bf-4579-92b8-252be4475723"
    },
    "slideshow": {
     "slide_type": "slide"
    }
   },
   "source": [
    "Easy and straight forward! Train and debug the model in eager mode and convert it with a dummy input.\n",
    "\n",
    "However it will only record the operations triggered by the input:"
   ]
  },
  {
   "cell_type": "code",
   "execution_count": 17,
   "metadata": {
    "nbpresent": {
     "id": "cfca08ea-ffc2-4107-8e22-1a2572829486"
    },
    "slideshow": {
     "slide_type": "slide"
    }
   },
   "outputs": [
    {
     "name": "stdout",
     "output_type": "stream",
     "text": [
      "b1.grad= tensor([1.])\n",
      "graph(%x : Float(2, 1),\n",
      "      %w : Float(2, 1),\n",
      "      %b : Float(1)):\n",
      "  %6 : Float(1!, 2) = aten::t(%w)\n",
      "  %7 : Float(1, 1) = aten::mm(%6, %x)\n",
      "  %8 : int = prim::Constant[value=1]()\n",
      "  %9 : Float(1, 1) = aten::add(%7, %b, %8)\n",
      "  return (%9)\n",
      "\n"
     ]
    },
    {
     "name": "stderr",
     "output_type": "stream",
     "text": [
      "/opt/anaconda3/lib/python3.7/site-packages/ipykernel_launcher.py:2: TracerWarning: Converting a tensor to a Python boolean might cause the trace to be incorrect. We can't record the data flow of Python values, so this value will be treated as a constant in the future. This means that the trace might not generalize to other inputs!\n",
      "  \n"
     ]
    }
   ],
   "source": [
    "def trace_foo(x, w, b):\n",
    "    if x.mean() > 0:\n",
    "        return torch.mm(w.t(), x) + b\n",
    "    else:\n",
    "        return torch.mm(w.t(), x) - b\n",
    "\n",
    "x = torch.Tensor([[1], [2]])\n",
    "w = torch.Tensor([[5], [7]]).requires_grad_()\n",
    "b = torch.Tensor([-1]).requires_grad_()\n",
    "\n",
    "tmodule = torch.jit.trace(trace_foo, (x, w, b)) # compile\n",
    "\n",
    "x1 = torch.Tensor([[-3], [-6]])\n",
    "w1 = torch.Tensor([[1], [2]]).requires_grad_()\n",
    "b1 = torch.Tensor([4]).requires_grad_()\n",
    "\n",
    "y = tmodule(x1, w1, b1)\n",
    "\n",
    "y.backward()\n",
    "print('b1.grad=', b1.grad) # Error!\n",
    "\n",
    "print(tmodule.graph)"
   ]
  },
  {
   "cell_type": "markdown",
   "metadata": {
    "nbpresent": {
     "id": "272661b3-55af-4e21-9e33-d44333e70791"
    },
    "slideshow": {
     "slide_type": "slide"
    }
   },
   "source": [
    "#### Scripting"
   ]
  },
  {
   "cell_type": "code",
   "execution_count": 18,
   "metadata": {
    "nbpresent": {
     "id": "562be171-6117-4d05-bbbe-86f768424cf1"
    },
    "slideshow": {
     "slide_type": "slide"
    }
   },
   "outputs": [
    {
     "name": "stdout",
     "output_type": "stream",
     "text": [
      "b.grad= tensor([1.])\n",
      "b1.grad= tensor([-1.])\n",
      "graph(%x : Tensor,\n",
      "      %w : Tensor,\n",
      "      %b : Tensor):\n",
      "  %9 : int = prim::Constant[value=1]()\n",
      "  %4 : int = prim::Constant[value=0]()\n",
      "  %3 : Tensor = aten::mean(%x)\n",
      "  %5 : Tensor = aten::gt(%3, %4)\n",
      "  %6 : bool = prim::Bool(%5)\n",
      "  %15 : Tensor = prim::If(%6)\n",
      "    block0():\n",
      "      %7 : Tensor = aten::t(%w)\n",
      "      %8 : Tensor = aten::mm(%7, %x)\n",
      "      %10 : Tensor = aten::add(%8, %b, %9)\n",
      "      -> (%10)\n",
      "    block1():\n",
      "      %11 : Tensor = aten::t(%w)\n",
      "      %12 : Tensor = aten::mm(%11, %x)\n",
      "      %14 : Tensor = aten::sub(%12, %b, %9)\n",
      "      -> (%14)\n",
      "  return (%15)\n",
      "\n"
     ]
    }
   ],
   "source": [
    "@torch.jit.script\n",
    "def script_foo(x, w, b):\n",
    "    if x.mean() > 0:\n",
    "        return torch.mm(w.t(), x) + b\n",
    "    else:\n",
    "        return torch.mm(w.t(), x) - b\n",
    "\n",
    "x = torch.Tensor([[1], [2]])\n",
    "w = torch.Tensor([[5], [7]]).requires_grad_()\n",
    "b = torch.Tensor([-1]).requires_grad_()\n",
    "\n",
    "y = script_foo(x, w, b)\n",
    "\n",
    "y.backward()\n",
    "print('b.grad=', b.grad)\n",
    "\n",
    "x1 = torch.Tensor([[-3], [-6]])\n",
    "w1 = torch.Tensor([[1], [2]]).requires_grad_()\n",
    "b1 = torch.Tensor([4]).requires_grad_()\n",
    "\n",
    "y = script_foo(x1, w1, b1)\n",
    "\n",
    "y.backward()\n",
    "print('b1.grad=', b1.grad) # Right!\n",
    "\n",
    "print(script_foo.graph)"
   ]
  },
  {
   "cell_type": "markdown",
   "metadata": {
    "nbpresent": {
     "id": "84744f2e-8c20-4543-a2ca-5a6cd1e77708"
    },
    "slideshow": {
     "slide_type": "slide"
    }
   },
   "source": [
    "This is how script mode looks like:\n",
    "![](./images/script.gif?arg)\n",
    "\n",
    "It will first compile the whole graph and then feed the input into it. Optimization can be easily done with all the information about the graph. You can reuse the same graph until you detach the output from it."
   ]
  },
  {
   "cell_type": "code",
   "execution_count": 22,
   "metadata": {
    "nbpresent": {
     "id": "134316b6-5beb-48ed-b9f8-93156cef94df"
    },
    "slideshow": {
     "slide_type": "slide"
    }
   },
   "outputs": [
    {
     "name": "stdout",
     "output_type": "stream",
     "text": [
      "w.grad= tensor([[1.],\n",
      "        [2.]])\n",
      "b.grad= tensor([1.])\n",
      "w.grad= tensor([[2.],\n",
      "        [4.]])\n",
      "b.grad= tensor([2.])\n"
     ]
    }
   ],
   "source": [
    "@torch.jit.script\n",
    "def script_foo(x, w, b):\n",
    "    return torch.mm(w.t(), x) + b\n",
    "\n",
    "x = torch.Tensor([[1], [2]])\n",
    "w = torch.Tensor([[5], [7]]).requires_grad_()\n",
    "b = torch.Tensor([-1]).requires_grad_()\n",
    "\n",
    "y = script_foo(x, w, b)\n",
    "\n",
    "y.backward()\n",
    "print('w.grad=', w.grad)\n",
    "print('b.grad=', b.grad)\n",
    "\n",
    "y.backward()\n",
    "print('w.grad=', w.grad)\n",
    "print('b.grad=', b.grad)\n",
    "\n",
    "# y.detach_()\n",
    "# y.backward()\n",
    "# print('w.grad=', w.grad)\n",
    "# print('b.grad=', b.grad)"
   ]
  },
  {
   "cell_type": "markdown",
   "metadata": {
    "nbpresent": {
     "id": "e33357c5-aa86-4524-9dd9-2e164e6097da"
    },
    "slideshow": {
     "slide_type": "slide"
    }
   },
   "source": [
    "## Beyond Numpy: High Level APIs & Utilities for DL\n",
    "\n",
    "* torch.nn\n",
    "* torch.optim\n",
    "* torch.utils.data\n",
    "* torchvision\n",
    "\n",
    "# 3 - Exploring PyTorch API (Demo)\n",
    "\n",
    "Let's build an image classifier using the MNIST dataset!\n",
    "\n",
    "## 1. Prepare the data\n",
    "\n",
    "The MNIST database of handwritten digits has a training set of 60,000 examples and a test set of 10,000 examples. The digits have been size-normalized and centered in a fixed-size image.\n",
    "\n",
    "We can easily download and prepare the data using the package torchvision, which consists of popular datasets, model architectures, and common image transformations for computer vision."
   ]
  },
  {
   "cell_type": "code",
   "execution_count": 23,
   "metadata": {
    "nbpresent": {
     "id": "89bdcc89-3cd3-4fe7-b03b-074046d85cf0"
    },
    "slideshow": {
     "slide_type": "slide"
    }
   },
   "outputs": [
    {
     "name": "stderr",
     "output_type": "stream",
     "text": [
      "\r",
      "0it [00:00, ?it/s]"
     ]
    },
    {
     "name": "stdout",
     "output_type": "stream",
     "text": [
      "Downloading http://yann.lecun.com/exdb/mnist/train-images-idx3-ubyte.gz to ./data/MNIST/raw/train-images-idx3-ubyte.gz\n"
     ]
    },
    {
     "name": "stderr",
     "output_type": "stream",
     "text": [
      "9920512it [00:01, 8213434.10it/s]                            \n"
     ]
    },
    {
     "name": "stdout",
     "output_type": "stream",
     "text": [
      "Extracting ./data/MNIST/raw/train-images-idx3-ubyte.gz\n"
     ]
    },
    {
     "name": "stderr",
     "output_type": "stream",
     "text": [
      "  0%|          | 0/28881 [00:00<?, ?it/s]"
     ]
    },
    {
     "name": "stdout",
     "output_type": "stream",
     "text": [
      "Downloading http://yann.lecun.com/exdb/mnist/train-labels-idx1-ubyte.gz to ./data/MNIST/raw/train-labels-idx1-ubyte.gz\n"
     ]
    },
    {
     "name": "stderr",
     "output_type": "stream",
     "text": [
      "32768it [00:00, 136678.61it/s]           \n",
      "  0%|          | 0/1648877 [00:00<?, ?it/s]"
     ]
    },
    {
     "name": "stdout",
     "output_type": "stream",
     "text": [
      "Extracting ./data/MNIST/raw/train-labels-idx1-ubyte.gz\n",
      "Downloading http://yann.lecun.com/exdb/mnist/t10k-images-idx3-ubyte.gz to ./data/MNIST/raw/t10k-images-idx3-ubyte.gz\n"
     ]
    },
    {
     "name": "stderr",
     "output_type": "stream",
     "text": [
      "1654784it [00:00, 2030906.36it/s]                            \n",
      "0it [00:00, ?it/s]"
     ]
    },
    {
     "name": "stdout",
     "output_type": "stream",
     "text": [
      "Extracting ./data/MNIST/raw/t10k-images-idx3-ubyte.gz\n",
      "Downloading http://yann.lecun.com/exdb/mnist/t10k-labels-idx1-ubyte.gz to ./data/MNIST/raw/t10k-labels-idx1-ubyte.gz\n"
     ]
    },
    {
     "name": "stderr",
     "output_type": "stream",
     "text": [
      "8192it [00:00, 52104.10it/s]            "
     ]
    },
    {
     "name": "stdout",
     "output_type": "stream",
     "text": [
      "Extracting ./data/MNIST/raw/t10k-labels-idx1-ubyte.gz\n",
      "Processing...\n",
      "Done!\n",
      "Dataset MNIST\n",
      "    Number of datapoints: 60000\n",
      "    Split: train\n",
      "    Root Location: ./data\n",
      "    Transforms (if any): Compose(\n",
      "                             ToTensor()\n",
      "                             Normalize(mean=(0.1307,), std=(0.3081,))\n",
      "                         )\n",
      "    Target Transforms (if any): None\n",
      "Dataset MNIST\n",
      "    Number of datapoints: 10000\n",
      "    Split: test\n",
      "    Root Location: ./data\n",
      "    Transforms (if any): Compose(\n",
      "                             ToTensor()\n",
      "                             Normalize(mean=(0.1307,), std=(0.3081,))\n",
      "                         )\n",
      "    Target Transforms (if any): None\n"
     ]
    },
    {
     "name": "stderr",
     "output_type": "stream",
     "text": [
      "\n"
     ]
    }
   ],
   "source": [
    "import random\n",
    "import torchvision\n",
    "\n",
    "transform = torchvision.transforms.Compose([\n",
    "        torchvision.transforms.ToTensor(),\n",
    "        torchvision.transforms.Normalize((0.1307,), (0.3081,))\n",
    "    ])\n",
    "\n",
    "trainset = torchvision.datasets.MNIST(root='./data', train=True, download=True, transform=transform)\n",
    "testset = torchvision.datasets.MNIST(root='./data', train=False, download=True, transform=transform)\n",
    "\n",
    "print(trainset)\n",
    "print(testset)"
   ]
  },
  {
   "cell_type": "markdown",
   "metadata": {
    "nbpresent": {
     "id": "6b2a22b6-abc7-4789-9bf1-5296bd5bb1d5"
    },
    "slideshow": {
     "slide_type": "slide"
    }
   },
   "source": [
    "You can also define your own dataset using `torch.utils.data.Dataset`.\n",
    "\n",
    "We usually need to use SGD to train the model since the whole training set is usually too large. In each iteration, we need to fetch a batch (randomly chosen sample) from the dataset. `torch.utils.data.DataLoader` is responsible for managing batches."
   ]
  },
  {
   "cell_type": "code",
   "execution_count": 24,
   "metadata": {
    "nbpresent": {
     "id": "cf0f4e77-06dd-4c8c-9c16-800599a66e89"
    },
    "slideshow": {
     "slide_type": "slide"
    }
   },
   "outputs": [],
   "source": [
    "from torch.utils.data import DataLoader\n",
    "\n",
    "def _worker_init_fn_():\n",
    "        torch_seed = torch.initial_seed()\n",
    "        np_seed = torch_seed // (2**32 -1)\n",
    "        random.seed(torch_seed)\n",
    "        np.random.seed(np_seed)\n",
    "\n",
    "trainloader = DataLoader(trainset, batch_size=64, shuffle=True, num_workers=4, worker_init_fn=_worker_init_fn_())\n",
    "testloader = DataLoader(testset, batch_size=500, shuffle=False, num_workers=4)"
   ]
  },
  {
   "cell_type": "markdown",
   "metadata": {
    "nbpresent": {
     "id": "45eabe05-9417-40f2-b91a-bd0a481bfa54"
    },
    "slideshow": {
     "slide_type": "slide"
    }
   },
   "source": [
    "Let's take a look at the data:"
   ]
  },
  {
   "cell_type": "code",
   "execution_count": 25,
   "metadata": {
    "nbpresent": {
     "id": "2b921592-350c-495b-8678-e1b40e68c014"
    },
    "scrolled": false,
    "slideshow": {
     "slide_type": "slide"
    }
   },
   "outputs": [
    {
     "data": {
      "image/png": "[encoded data removed]",
      "text/plain": [
       "<Figure size 432x288 with 1 Axes>"
      ]
     },
     "metadata": {
      "needs_background": "light"
     },
     "output_type": "display_data"
    },
    {
     "name": "stdout",
     "output_type": "stream",
     "text": [
      "Labels:    1   7   7   4   5   9   8   4\n"
     ]
    }
   ],
   "source": [
    "%matplotlib inline\n",
    "import matplotlib.pyplot as plt\n",
    "\n",
    "def imshow(img):\n",
    "    img = img * 0.3081 + 0.1307\n",
    "    npimg = img.numpy()\n",
    "    plt.imshow(np.transpose(npimg, (1, 2, 0)), cmap=\"gray\")\n",
    "    plt.show()\n",
    "\n",
    "# get some random images\n",
    "dataiter = iter(trainloader)\n",
    "images, labels = dataiter.next()\n",
    "\n",
    "# show images\n",
    "imshow(torchvision.utils.make_grid(images[:8]))\n",
    "# print labels\n",
    "print('Labels:', ''.join('%4d' % j.item() for j in labels[:8]))"
   ]
  },
  {
   "cell_type": "markdown",
   "metadata": {
    "nbpresent": {
     "id": "a9cb57ea-6cf7-4852-bdd9-60943de512f8"
    },
    "slideshow": {
     "slide_type": "slide"
    }
   },
   "source": [
    "## 2. Define the model\n",
    "\n",
    "![](./images/cnn.png?arg)\n",
    "\n",
    "`torch.nn.Module` is a base class for all neural network modules. It can track all the parameters and status. We need to define our model as a subclass of it and overide the `__init__()` and `forward()` method. We can define our module by using the submodules that `torch.nn` has already provided, like Convolution Layer, Linear Layer, Pooling Layer and Dropout Layers...:"
   ]
  },
  {
   "cell_type": "code",
   "execution_count": 26,
   "metadata": {
    "nbpresent": {
     "id": "20a71845-82fc-4547-8a20-d7ae6a5df71b"
    },
    "slideshow": {
     "slide_type": "slide"
    }
   },
   "outputs": [],
   "source": [
    "import torch.nn as nn\n",
    "\n",
    "device = torch.device(\"cuda\" if torch.cuda.is_available() else \"cpu\")\n",
    "\n",
    "class Net(nn.Module):\n",
    "    def __init__(self):\n",
    "        super(Net, self).__init__()\n",
    "        self.convnet = nn.Sequential(\n",
    "            nn.Conv2d(in_channels=1, out_channels=32, kernel_size=5, stride=1, padding=2),\n",
    "            nn.ReLU(),\n",
    "            nn.MaxPool2d(kernel_size=2, stride=2),\n",
    "            nn.Conv2d(in_channels=32, out_channels=64, kernel_size=5, stride=1, padding=2),\n",
    "            nn.ReLU(),\n",
    "            nn.MaxPool2d(kernel_size=2, stride=2)\n",
    "        )\n",
    "        self.fnn = nn.Sequential(\n",
    "            nn.Linear(7*7*64, 256),\n",
    "            nn.ReLU(),\n",
    "            nn.Linear(256, 10)\n",
    "        )\n",
    "\n",
    "    def forward(self, x):\n",
    "        x = self.convnet(x)\n",
    "        x = x.view(-1, 7*7*64)\n",
    "        x = self.fnn(x)\n",
    "        return x    \n",
    "\n",
    "net = Net().to(device)"
   ]
  },
  {
   "cell_type": "markdown",
   "metadata": {
    "nbpresent": {
     "id": "9c6ef9e3-55ba-4164-b4a7-6e104d015c19"
    },
    "slideshow": {
     "slide_type": "slide"
    }
   },
   "source": [
    "## 3. Define Loss\n",
    "\n",
    "`torch.nn` package also provides a bunch of common loss functions, here we use cross entropy loss:"
   ]
  },
  {
   "cell_type": "code",
   "execution_count": 27,
   "metadata": {
    "nbpresent": {
     "id": "92b16137-dcc0-4769-9844-8d5503d778a7"
    },
    "slideshow": {
     "slide_type": "slide"
    }
   },
   "outputs": [],
   "source": [
    "criterion = nn.CrossEntropyLoss() # softmax + nll!"
   ]
  },
  {
   "cell_type": "markdown",
   "metadata": {
    "nbpresent": {
     "id": "40c735fa-b0fd-4e61-a7b6-23bcd03393a2"
    },
    "slideshow": {
     "slide_type": "slide"
    }
   },
   "source": [
    "## 4. Define Optimization Method\n",
    "\n",
    "`torch.optim` is a package implementing various optimization algorithms:"
   ]
  },
  {
   "cell_type": "code",
   "execution_count": 28,
   "metadata": {
    "nbpresent": {
     "id": "0bd35acc-9a29-4865-a597-fbbdc39c4f02"
    },
    "slideshow": {
     "slide_type": "slide"
    }
   },
   "outputs": [],
   "source": [
    "import torch.optim as optim\n",
    "\n",
    "optimizer = optim.SGD(net.parameters(), lr=0.001, momentum=0.9)"
   ]
  },
  {
   "cell_type": "markdown",
   "metadata": {
    "nbpresent": {
     "id": "5fe04978-49d1-4ceb-a1a1-d88fc384ff33"
    },
    "slideshow": {
     "slide_type": "slide"
    }
   },
   "source": [
    "## 5. Train\n",
    "\n",
    "Let's see how these components work together:"
   ]
  },
  {
   "cell_type": "code",
   "execution_count": 30,
   "metadata": {
    "nbpresent": {
     "id": "3ba6661d-6f46-447b-8e31-53ca890b7a4d"
    },
    "scrolled": false,
    "slideshow": {
     "slide_type": "slide"
    }
   },
   "outputs": [
    {
     "name": "stdout",
     "output_type": "stream",
     "text": [
      "[1,   100] loss: 2.088\n",
      "[1,   200] loss: 0.840\n",
      "[1,   300] loss: 0.420\n",
      "[1,   400] loss: 0.341\n",
      "[1,   500] loss: 0.265\n",
      "[1,   600] loss: 0.256\n",
      "[1,   700] loss: 0.223\n",
      "[1,   800] loss: 0.192\n",
      "[1,   900] loss: 0.195\n",
      "[2,   100] loss: 0.165\n",
      "[2,   200] loss: 0.144\n",
      "[2,   300] loss: 0.136\n",
      "[2,   400] loss: 0.136\n",
      "[2,   500] loss: 0.142\n",
      "[2,   600] loss: 0.122\n",
      "[2,   700] loss: 0.115\n",
      "[2,   800] loss: 0.114\n",
      "[2,   900] loss: 0.100\n",
      "Finished Training\n"
     ]
    }
   ],
   "source": [
    "for epoch in range(2):  # loop over the dataset multiple times\n",
    "    running_loss = 0.0\n",
    "    for i, data in enumerate(trainloader, 0):\n",
    "        # get the inputs\n",
    "        inputs, labels = data\n",
    "        \n",
    "        # move to device\n",
    "        inputs = inputs.to(device)\n",
    "        labels = labels.to(device)\n",
    "\n",
    "        # zero the parameter gradients: set all parameter tensors's grad to 0\n",
    "        optimizer.zero_grad()\n",
    "\n",
    "        # forward: build the backward graph\n",
    "        outputs = net(inputs)\n",
    "        loss = criterion(outputs, labels)\n",
    "        \n",
    "        # backward: compute gradients\n",
    "        loss.backward()\n",
    "        \n",
    "        # gradient descent: update all parameter tensors with its grad\n",
    "        optimizer.step()\n",
    "\n",
    "        # print loss\n",
    "        running_loss += loss.item()\n",
    "        if i % 100 == 99:    # print every 100 mini-batches\n",
    "            print('[%d, %5d] loss: %.3f' %\n",
    "                  (epoch + 1, i + 1, running_loss / 100))\n",
    "            running_loss = 0.0\n",
    "\n",
    "print('Finished Training')"
   ]
  },
  {
   "cell_type": "markdown",
   "metadata": {
    "nbpresent": {
     "id": "0b3102ea-aea0-4037-bbb7-a488f0b1ec31"
    },
    "slideshow": {
     "slide_type": "slide"
    }
   },
   "source": [
    "## 6. Test\n",
    "\n",
    "Let's test our model's performance:"
   ]
  },
  {
   "cell_type": "code",
   "execution_count": 31,
   "metadata": {
    "nbpresent": {
     "id": "327b21ac-dbc8-4b58-9a5e-cb4f526af755"
    },
    "slideshow": {
     "slide_type": "slide"
    }
   },
   "outputs": [
    {
     "name": "stdout",
     "output_type": "stream",
     "text": [
      "Accuracy of the network on the 10000 test images: 97 %\n"
     ]
    }
   ],
   "source": [
    "correct = 0\n",
    "total = 0\n",
    "\n",
    "# no graph need to be build here\n",
    "with torch.no_grad():\n",
    "    for data in testloader:\n",
    "        inputs, labels = data\n",
    "        inputs = inputs.to(device)\n",
    "        labels = labels.to(device)\n",
    "        outputs = net(inputs)\n",
    "        _, predicted = torch.max(outputs.data, 1)\n",
    "        total += labels.size(0)\n",
    "        correct += (predicted == labels).sum().item()\n",
    "\n",
    "print('Accuracy of the network on the 10000 test images: %d %%' % (\n",
    "    100 * correct / total))"
   ]
  },
  {
   "cell_type": "markdown",
   "metadata": {
    "nbpresent": {
     "id": "4ca8ef1f-fb9b-42e8-adae-9b58a61ac955"
    },
    "slideshow": {
     "slide_type": "slide"
    }
   },
   "source": [
    "Let's see some test result:"
   ]
  },
  {
   "cell_type": "code",
   "execution_count": 33,
   "metadata": {
    "nbpresent": {
     "id": "a250f539-a361-40bf-a219-17311613b478"
    },
    "slideshow": {
     "slide_type": "slide"
    }
   },
   "outputs": [
    {
     "data": {
      "image/png": "[encoded data removed]",
      "text/plain": [
       "<Figure size 432x288 with 1 Axes>"
      ]
     },
     "metadata": {
      "needs_background": "light"
     },
     "output_type": "display_data"
    },
    {
     "name": "stdout",
     "output_type": "stream",
     "text": [
      "Ground Truth    7   2   1   0   4   1   4   9\n",
      "Prediction    7   2   1   0   4   1   4   9\n"
     ]
    }
   ],
   "source": [
    "dataiter = iter(testloader)\n",
    "images, labels = dataiter.next()\n",
    "\n",
    "# print images\n",
    "imshow(torchvision.utils.make_grid(images[:8]))\n",
    "print('Ground Truth', ''.join('%4d' % j.item() for j in labels[:8]))\n",
    "\n",
    "outputs = net(images.to(device))\n",
    "_, predicted = torch.max(outputs, 1)\n",
    "print('Prediction', ''.join('%4d' % j.item() for j in predicted[:8]))"
   ]
  },
  {
   "cell_type": "markdown",
   "metadata": {
    "nbpresent": {
     "id": "015ff2d5-da0a-4583-b188-00387ceec8bc"
    },
    "slideshow": {
     "slide_type": "slide"
    }
   },
   "source": [
    "This is how your skin and eyes are saved!\n",
    "\n",
    "And how you become a parameter tuning engineer~\n",
    "\n",
    "# Takeaways\n",
    "\n",
    "PyTorch = **NumPy** + **GPU Support** + **AD Engine** + DL APIs & Utilities "
   ]
  }
 ],
 "metadata": {
  "kernelspec": {
   "display_name": "Python 3",
   "language": "python",
   "name": "python3"
  },
  "language_info": {
   "codemirror_mode": {
    "name": "ipython",
    "version": 3
   },
   "file_extension": ".py",
   "mimetype": "text/x-python",
   "name": "python",
   "nbconvert_exporter": "python",
   "pygments_lexer": "ipython3",
   "version": "3.7.1"
  }
 },
 "nbformat": 4,
 "nbformat_minor": 2
}
